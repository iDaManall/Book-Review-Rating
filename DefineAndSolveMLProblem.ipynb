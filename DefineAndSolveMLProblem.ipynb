{
 "cells": [
  {
   "cell_type": "markdown",
   "metadata": {},
   "source": [
    "# Lab 8: Define and Solve an ML Problem of Your Choosing"
   ]
  },
  {
   "cell_type": "code",
   "execution_count": 1,
   "metadata": {},
   "outputs": [],
   "source": [
    "import pandas as pd\n",
    "import numpy as np\n",
    "import os \n",
    "import matplotlib.pyplot as plt\n",
    "import seaborn as sns"
   ]
  },
  {
   "cell_type": "markdown",
   "metadata": {},
   "source": [
    "In this lab assignment, you will follow the machine learning life cycle and implement a model to solve a machine learning problem of your choosing. You will select a data set and choose a predictive problem that the data set supports.  You will then inspect the data with your problem in mind and begin to formulate a  project plan. You will then implement the machine learning project plan. \n",
    "\n",
    "You will complete the following tasks:\n",
    "\n",
    "1. Build Your DataFrame\n",
    "2. Define Your ML Problem\n",
    "3. Perform exploratory data analysis to understand your data.\n",
    "4. Define Your Project Plan\n",
    "5. Implement Your Project Plan:\n",
    "    * Prepare your data for your model.\n",
    "    * Fit your model to the training data and evaluate your model.\n",
    "    * Improve your model's performance."
   ]
  },
  {
   "cell_type": "markdown",
   "metadata": {},
   "source": [
    "## Part 1: Build Your DataFrame\n",
    "\n",
    "You will have the option to choose one of four data sets that you have worked with in this program:\n",
    "\n",
    "* The \"census\" data set that contains Census information from 1994: `censusData.csv`\n",
    "* Airbnb NYC \"listings\" data set: `airbnbListingsData.csv`\n",
    "* World Happiness Report (WHR) data set: `WHR2018Chapter2OnlineData.csv`\n",
    "* Book Review data set: `bookReviewsData.csv`\n",
    "\n",
    "Note that these are variations of the data sets that you have worked with in this program. For example, some do not include some of the preprocessing necessary for specific models. \n",
    "\n",
    "#### Load a Data Set and Save it as a Pandas DataFrame\n",
    "\n",
    "The code cell below contains filenames (path + filename) for each of the four data sets available to you.\n",
    "\n",
    "<b>Task:</b> In the code cell below, use the same method you have been using to load the data using `pd.read_csv()` and save it to DataFrame `df`. \n",
    "\n",
    "You can load each file as a new DataFrame to inspect the data before choosing your data set."
   ]
  },
  {
   "cell_type": "code",
   "execution_count": 2,
   "metadata": {},
   "outputs": [
    {
     "data": {
      "text/html": [
       "<div>\n",
       "<style scoped>\n",
       "    .dataframe tbody tr th:only-of-type {\n",
       "        vertical-align: middle;\n",
       "    }\n",
       "\n",
       "    .dataframe tbody tr th {\n",
       "        vertical-align: top;\n",
       "    }\n",
       "\n",
       "    .dataframe thead th {\n",
       "        text-align: right;\n",
       "    }\n",
       "</style>\n",
       "<table border=\"1\" class=\"dataframe\">\n",
       "  <thead>\n",
       "    <tr style=\"text-align: right;\">\n",
       "      <th></th>\n",
       "      <th>Review</th>\n",
       "      <th>Positive Review</th>\n",
       "    </tr>\n",
       "  </thead>\n",
       "  <tbody>\n",
       "    <tr>\n",
       "      <th>0</th>\n",
       "      <td>This was perhaps the best of Johannes Steinhof...</td>\n",
       "      <td>True</td>\n",
       "    </tr>\n",
       "    <tr>\n",
       "      <th>1</th>\n",
       "      <td>This very fascinating book is a story written ...</td>\n",
       "      <td>True</td>\n",
       "    </tr>\n",
       "    <tr>\n",
       "      <th>2</th>\n",
       "      <td>The four tales in this collection are beautifu...</td>\n",
       "      <td>True</td>\n",
       "    </tr>\n",
       "    <tr>\n",
       "      <th>3</th>\n",
       "      <td>The book contained more profanity than I expec...</td>\n",
       "      <td>False</td>\n",
       "    </tr>\n",
       "    <tr>\n",
       "      <th>4</th>\n",
       "      <td>We have now entered a second time of deep conc...</td>\n",
       "      <td>True</td>\n",
       "    </tr>\n",
       "  </tbody>\n",
       "</table>\n",
       "</div>"
      ],
      "text/plain": [
       "                                              Review  Positive Review\n",
       "0  This was perhaps the best of Johannes Steinhof...             True\n",
       "1  This very fascinating book is a story written ...             True\n",
       "2  The four tales in this collection are beautifu...             True\n",
       "3  The book contained more profanity than I expec...            False\n",
       "4  We have now entered a second time of deep conc...             True"
      ]
     },
     "execution_count": 2,
     "metadata": {},
     "output_type": "execute_result"
    }
   ],
   "source": [
    "# File names of the four data sets\n",
    "adultDataSet_filename = os.path.join(os.getcwd(), \"data\", \"censusData.csv\")\n",
    "airbnbDataSet_filename = os.path.join(os.getcwd(), \"data\", \"airbnbListingsData.csv\")\n",
    "WHRDataSet_filename = os.path.join(os.getcwd(), \"data\", \"WHR2018Chapter2OnlineData.csv\")\n",
    "bookReviewDataSet_filename = os.path.join(os.getcwd(), \"data\", \"bookReviewsData.csv\")\n",
    "\n",
    "\n",
    "df = pd.read_csv(bookReviewDataSet_filename, header=0)\n",
    "\n",
    "df.head()"
   ]
  },
  {
   "cell_type": "markdown",
   "metadata": {},
   "source": [
    "## Part 2: Define Your ML Problem\n",
    "\n",
    "Next you will formulate your ML Problem. In the markdown cell below, answer the following questions:\n",
    "\n",
    "1. List the data set you have chosen.\n",
    "2. What will you be predicting? What is the label?\n",
    "3. Is this a supervised or unsupervised learning problem? Is this a clustering, classification or regression problem? Is it a binary classificaiton or multi-class classifiction problem?\n",
    "4. What are your features? (note: this list may change after your explore your data)\n",
    "5. Explain why this is an important problem. In other words, how would a company create value with a model that predicts this label?"
   ]
  },
  {
   "cell_type": "markdown",
   "metadata": {},
   "source": [
    "We will be using the bookReview Dataset. We will be predicting a review score on a range of 1 to 5 with 1 being the most negative and 5 being the most positive sentiment. The label will be a new column we will create called \"Review Score\" which quantifies the sentiment of the review further than just a simple binary classification. This would be a supervised learning problem since we have the \"Positive Review\" column that labels the true \"sentiments\" of the reviews which we will reference to when creating initial data for \"Review Score\", and then use that data in order to train/assess our model for new unseen data. This would be a multi-class classification problem with the options being on a scale of 1 to 5. We will be deriving our features from the text in the \"Review\" column that will be transformed into numerical representation using TF-IDF vectorization. This is an important problem because it can effectively indicate whether a product/person/or anything else will be well received or not and track public opinions in a sense. It gives deeper insights rather than just a binary classification, which may provide better feedback and improvements. They can also assess each user's individual preferences by their reviews and recommend books based on that. "
   ]
  },
  {
   "cell_type": "markdown",
   "metadata": {},
   "source": [
    "## Part 3: Understand Your Data\n",
    "\n",
    "The next step is to perform exploratory data analysis. Inspect and analyze your data set with your machine learning problem in mind. Consider the following as you inspect your data:\n",
    "\n",
    "1. What data preparation techniques would you like to use? These data preparation techniques may include:\n",
    "\n",
    "    * addressing missingness, such as replacing missing values with means\n",
    "    * finding and replacing outliers\n",
    "    * renaming features and labels\n",
    "    * finding and replacing outliers\n",
    "    * performing feature engineering techniques such as one-hot encoding on categorical features\n",
    "    * selecting appropriate features and removing irrelevant features\n",
    "    * performing specific data cleaning and preprocessing techniques for an NLP problem\n",
    "    * addressing class imbalance in your data sample to promote fair AI\n",
    "    \n",
    "\n",
    "2. What machine learning model (or models) you would like to use that is suitable for your predictive problem and data?\n",
    "    * Are there other data preparation techniques that you will need to apply to build a balanced modeling data set for your problem and model? For example, will you need to scale your data?\n",
    " \n",
    " \n",
    "3. How will you evaluate and improve the model's performance?\n",
    "    * Are there specific evaluation metrics and methods that are appropriate for your model?\n",
    "    \n",
    "\n",
    "Think of the different techniques you have used to inspect and analyze your data in this course. These include using Pandas to apply data filters, using the Pandas `describe()` method to get insight into key statistics for each column, using the Pandas `dtypes` property to inspect the data type of each column, and using Matplotlib and Seaborn to detect outliers and visualize relationships between features and labels. If you are working on a classification problem, use techniques you have learned to determine if there is class imbalance.\n",
    "\n",
    "<b>Task</b>: Use the techniques you have learned in this course to inspect and analyze your data. You can import additional packages that you have used in this course that you will need to perform this task.\n",
    "\n",
    "<b>Note</b>: You can add code cells if needed by going to the <b>Insert</b> menu and clicking on <b>Insert Cell Below</b> in the drop-drown menu."
   ]
  },
  {
   "cell_type": "code",
   "execution_count": 3,
   "metadata": {},
   "outputs": [
    {
     "name": "stdout",
     "output_type": "stream",
     "text": [
      "(1973, 2)\n",
      "Index(['Review', 'Positive Review'], dtype='object')\n"
     ]
    },
    {
     "data": {
      "text/html": [
       "<div>\n",
       "<style scoped>\n",
       "    .dataframe tbody tr th:only-of-type {\n",
       "        vertical-align: middle;\n",
       "    }\n",
       "\n",
       "    .dataframe tbody tr th {\n",
       "        vertical-align: top;\n",
       "    }\n",
       "\n",
       "    .dataframe thead th {\n",
       "        text-align: right;\n",
       "    }\n",
       "</style>\n",
       "<table border=\"1\" class=\"dataframe\">\n",
       "  <thead>\n",
       "    <tr style=\"text-align: right;\">\n",
       "      <th></th>\n",
       "      <th>Review</th>\n",
       "      <th>Positive Review</th>\n",
       "    </tr>\n",
       "  </thead>\n",
       "  <tbody>\n",
       "    <tr>\n",
       "      <th>0</th>\n",
       "      <td>This was perhaps the best of Johannes Steinhof...</td>\n",
       "      <td>True</td>\n",
       "    </tr>\n",
       "    <tr>\n",
       "      <th>1</th>\n",
       "      <td>This very fascinating book is a story written ...</td>\n",
       "      <td>True</td>\n",
       "    </tr>\n",
       "    <tr>\n",
       "      <th>2</th>\n",
       "      <td>The four tales in this collection are beautifu...</td>\n",
       "      <td>True</td>\n",
       "    </tr>\n",
       "    <tr>\n",
       "      <th>3</th>\n",
       "      <td>The book contained more profanity than I expec...</td>\n",
       "      <td>False</td>\n",
       "    </tr>\n",
       "    <tr>\n",
       "      <th>4</th>\n",
       "      <td>We have now entered a second time of deep conc...</td>\n",
       "      <td>True</td>\n",
       "    </tr>\n",
       "    <tr>\n",
       "      <th>5</th>\n",
       "      <td>I don't know why it won the National Book Awar...</td>\n",
       "      <td>False</td>\n",
       "    </tr>\n",
       "    <tr>\n",
       "      <th>6</th>\n",
       "      <td>The daughter of a prominent Boston doctor is d...</td>\n",
       "      <td>False</td>\n",
       "    </tr>\n",
       "    <tr>\n",
       "      <th>7</th>\n",
       "      <td>I was very disapointed in the book.Basicly the...</td>\n",
       "      <td>False</td>\n",
       "    </tr>\n",
       "    <tr>\n",
       "      <th>8</th>\n",
       "      <td>I think in retrospect I wasted my time on this...</td>\n",
       "      <td>False</td>\n",
       "    </tr>\n",
       "    <tr>\n",
       "      <th>9</th>\n",
       "      <td>I have a hard time understanding what it is th...</td>\n",
       "      <td>False</td>\n",
       "    </tr>\n",
       "  </tbody>\n",
       "</table>\n",
       "</div>"
      ],
      "text/plain": [
       "                                              Review  Positive Review\n",
       "0  This was perhaps the best of Johannes Steinhof...             True\n",
       "1  This very fascinating book is a story written ...             True\n",
       "2  The four tales in this collection are beautifu...             True\n",
       "3  The book contained more profanity than I expec...            False\n",
       "4  We have now entered a second time of deep conc...             True\n",
       "5  I don't know why it won the National Book Awar...            False\n",
       "6  The daughter of a prominent Boston doctor is d...            False\n",
       "7  I was very disapointed in the book.Basicly the...            False\n",
       "8  I think in retrospect I wasted my time on this...            False\n",
       "9  I have a hard time understanding what it is th...            False"
      ]
     },
     "execution_count": 3,
     "metadata": {},
     "output_type": "execute_result"
    }
   ],
   "source": [
    "print(df.shape)\n",
    "print(df.columns)\n",
    "df.head(10)"
   ]
  },
  {
   "cell_type": "code",
   "execution_count": 4,
   "metadata": {},
   "outputs": [
    {
     "name": "stdout",
     "output_type": "stream",
     "text": [
      "Review             object\n",
      "Positive Review      bool\n",
      "dtype: object\n"
     ]
    },
    {
     "data": {
      "text/html": [
       "<div>\n",
       "<style scoped>\n",
       "    .dataframe tbody tr th:only-of-type {\n",
       "        vertical-align: middle;\n",
       "    }\n",
       "\n",
       "    .dataframe tbody tr th {\n",
       "        vertical-align: top;\n",
       "    }\n",
       "\n",
       "    .dataframe thead th {\n",
       "        text-align: right;\n",
       "    }\n",
       "</style>\n",
       "<table border=\"1\" class=\"dataframe\">\n",
       "  <thead>\n",
       "    <tr style=\"text-align: right;\">\n",
       "      <th></th>\n",
       "      <th>Review</th>\n",
       "      <th>Positive Review</th>\n",
       "    </tr>\n",
       "  </thead>\n",
       "  <tbody>\n",
       "    <tr>\n",
       "      <th>count</th>\n",
       "      <td>1973</td>\n",
       "      <td>1973</td>\n",
       "    </tr>\n",
       "    <tr>\n",
       "      <th>unique</th>\n",
       "      <td>1865</td>\n",
       "      <td>2</td>\n",
       "    </tr>\n",
       "    <tr>\n",
       "      <th>top</th>\n",
       "      <td>I have read several of Hiaasen's books and lov...</td>\n",
       "      <td>False</td>\n",
       "    </tr>\n",
       "    <tr>\n",
       "      <th>freq</th>\n",
       "      <td>3</td>\n",
       "      <td>993</td>\n",
       "    </tr>\n",
       "  </tbody>\n",
       "</table>\n",
       "</div>"
      ],
      "text/plain": [
       "                                                   Review Positive Review\n",
       "count                                                1973            1973\n",
       "unique                                               1865               2\n",
       "top     I have read several of Hiaasen's books and lov...           False\n",
       "freq                                                    3             993"
      ]
     },
     "execution_count": 4,
     "metadata": {},
     "output_type": "execute_result"
    }
   ],
   "source": [
    "print(df.dtypes)\n",
    "df.describe(include='all')"
   ]
  },
  {
   "cell_type": "code",
   "execution_count": 5,
   "metadata": {},
   "outputs": [
    {
     "name": "stdout",
     "output_type": "stream",
     "text": [
      "False    993\n",
      "True     980\n",
      "Name: Positive Review, dtype: int64\n"
     ]
    },
    {
     "data": {
      "image/png": "[encoded data removed]",
      "text/plain": [
       "<Figure size 640x480 with 1 Axes>"
      ]
     },
     "metadata": {},
     "output_type": "display_data"
    }
   ],
   "source": [
    "class_counts = df['Positive Review'].value_counts()\n",
    "print(class_counts)\n",
    "\n",
    "sns.countplot(x='Positive Review', data=df)\n",
    "plt.title('Distribution of Positive Reviews')\n",
    "plt.show()"
   ]
  },
  {
   "cell_type": "markdown",
   "metadata": {},
   "source": [
    "## Part 4: Define Your Project Plan\n",
    "\n",
    "Now that you understand your data, in the markdown cell below, define your plan to implement the remaining phases of the machine learning life cycle (data preparation, modeling, evaluation) to solve your ML problem. Answer the following questions:\n",
    "\n",
    "* Do you have a new feature list? If so, what are the features that you chose to keep and remove after inspecting the data? \n",
    "* Explain different data preparation techniques that you will use to prepare your data for modeling.\n",
    "* What is your model (or models)?\n",
    "* Describe your plan to train your model, analyze its performance and then improve the model. That is, describe your model building, validation and selection plan to produce a model that generalizes well to new data. "
   ]
  },
  {
   "cell_type": "markdown",
   "metadata": {},
   "source": [
    "Now that we have inspected our data, the plan is to introduce a new column called \"Review Score\" that will store a number between 1-5 to quantify the sentiment analysis and provide more depth. Our feature list will consist of the review text, and positive score which is used in creating the review score labels and won't be used in model training. We won't need vader score since review score covers that roughly nor our label column.  \n",
    "First, we will clean our data such as the \"Review\" column and transform it into numerical representation so we can actually use the data more effectively. We will do this by applying common pre-processing practices such as changing everything to lowercase, removing stop words, lemmatization, etc. Then, we'll apply TF-IDF vectorization to change the text into numerical features. We will keep this new Review data for training. In order to populate \"Review Score\" we will use a sentiment analysis tool and some thresholds to convert them to a 1-5 scale. If we find the data to be unbalanced we will use resampling techniques such as upsampling and downsampling.\n",
    "We can use a multi-layer neural network model with an input layer, hidden layers, and an output layer. We can also add dropout layers to prevent overfitting. \n",
    "To train our model, we will utilize the accuracy metric, sparse_categorical_crossentropy for multi-class classification, and the adam optimizer with a lower learning rate. We will also have a learning rate scheduler that will dynamically change the learning rate to prevent overfitting. In addition to this measure to prevent overfitting, we will also have an early stopper callback. Class weights will be utilized to ensure that the model is training properly and all labels are trained properly. With all these parameters in place, we can compile and train our model. We can then evaluate the model and get a classification report. Additionally, we can print out the reviews, predicted score, and actual scores to visually see our model in effect. "
   ]
  },
  {
   "cell_type": "markdown",
   "metadata": {},
   "source": [
    "## Part 5: Implement Your Project Plan\n",
    "\n",
    "<b>Task:</b> In the code cell below, import additional packages that you have used in this course that you will need to implement your project plan."
   ]
  },
  {
   "cell_type": "code",
   "execution_count": 14,
   "metadata": {},
   "outputs": [],
   "source": [
    "# if first time on environment, download nltk and vader by uncommenting below lines\n",
    "# !pip install nltk\n",
    "# !pip install vaderSentiment"
   ]
  },
  {
   "cell_type": "code",
   "execution_count": 6,
   "metadata": {
    "scrolled": true
   },
   "outputs": [],
   "source": [
    "# additional packages and downloads\n",
    "os.environ[\"TF_CPP_MIN_LOG_LEVEL\"] = \"2\" # suppress info and warning messages\n",
    "from sklearn.feature_extraction.text import TfidfVectorizer\n",
    "from sklearn.model_selection import train_test_split\n",
    "from sklearn.metrics import classification_report\n",
    "import tensorflow as tf\n",
    "import tensorflow.keras as keras\n",
    "import time\n",
    "\n",
    "import nltk # Natural Language Toolkit, for symbolic and statistical natural language processing\n",
    "from vaderSentiment.vaderSentiment import SentimentIntensityAnalyzer # for sentiment analysis to populate review score\n",
    "from nltk.corpus import stopwords # imports stopwords which we will remove\n",
    "from nltk.stem import WordNetLemmatizer # for lemmatization\n",
    "from sklearn.utils import resample # for upsamping and downsampling to balance the data better\n",
    "from sklearn.utils.class_weight import compute_class_weight # for balancing\n",
    "\n",
    "# Download necessary NLTK data if first time\n",
    "# nltk.download('stopwords')\n",
    "# nltk.download('wordnet') \n",
    "# nltk.download('vader_lexicon')"
   ]
  },
  {
   "cell_type": "markdown",
   "metadata": {},
   "source": [
    "<b>Task:</b> Use the rest of this notebook to carry out your project plan. \n",
    "\n",
    "You will:\n",
    "\n",
    "1. Prepare your data for your model.\n",
    "2. Fit your model to the training data and evaluate your model.\n",
    "3. Improve your model's performance by performing model selection and/or feature selection techniques to find best model for your problem.\n",
    "\n",
    "Add code cells below and populate the notebook with commentary, code, analyses, results, and figures as you see fit. "
   ]
  },
  {
   "cell_type": "code",
   "execution_count": 7,
   "metadata": {},
   "outputs": [
    {
     "data": {
      "text/html": [
       "<div>\n",
       "<style scoped>\n",
       "    .dataframe tbody tr th:only-of-type {\n",
       "        vertical-align: middle;\n",
       "    }\n",
       "\n",
       "    .dataframe tbody tr th {\n",
       "        vertical-align: top;\n",
       "    }\n",
       "\n",
       "    .dataframe thead th {\n",
       "        text-align: right;\n",
       "    }\n",
       "</style>\n",
       "<table border=\"1\" class=\"dataframe\">\n",
       "  <thead>\n",
       "    <tr style=\"text-align: right;\">\n",
       "      <th></th>\n",
       "      <th>Review</th>\n",
       "      <th>Positive Review</th>\n",
       "    </tr>\n",
       "  </thead>\n",
       "  <tbody>\n",
       "    <tr>\n",
       "      <th>0</th>\n",
       "      <td>perhaps best johannes steinhoff book since dea...</td>\n",
       "      <td>True</td>\n",
       "    </tr>\n",
       "    <tr>\n",
       "      <th>1</th>\n",
       "      <td>fascinating book story written form numerous l...</td>\n",
       "      <td>True</td>\n",
       "    </tr>\n",
       "    <tr>\n",
       "      <th>2</th>\n",
       "      <td>four tale collection beautifully composed art ...</td>\n",
       "      <td>True</td>\n",
       "    </tr>\n",
       "    <tr>\n",
       "      <th>3</th>\n",
       "      <td>book contained profanity expected read book ri...</td>\n",
       "      <td>False</td>\n",
       "    </tr>\n",
       "    <tr>\n",
       "      <th>4</th>\n",
       "      <td>entered second time deep concern science math ...</td>\n",
       "      <td>True</td>\n",
       "    </tr>\n",
       "  </tbody>\n",
       "</table>\n",
       "</div>"
      ],
      "text/plain": [
       "                                              Review  Positive Review\n",
       "0  perhaps best johannes steinhoff book since dea...             True\n",
       "1  fascinating book story written form numerous l...             True\n",
       "2  four tale collection beautifully composed art ...             True\n",
       "3  book contained profanity expected read book ri...            False\n",
       "4  entered second time deep concern science math ...             True"
      ]
     },
     "execution_count": 7,
     "metadata": {},
     "output_type": "execute_result"
    }
   ],
   "source": [
    "# clean the Review column\n",
    "original_reviews = df['Review'].copy()  # store the original reviews before cleaning\n",
    "\n",
    "stop_words = set(stopwords.words('english')) # assume all reviews in english\n",
    "lemmatizer = WordNetLemmatizer()\n",
    "\n",
    "df['Review'] = df['Review'].str.lower() # change to lowercase\n",
    "\n",
    "# replaces anything that is not (a-z, A-Z) (0-9), whitespace, or '.','!','?' with a space\n",
    "df['Review'] = df['Review'].str.replace(r'[^a-zA-Z0-9\\s.!?]', ' ', regex=True)\n",
    "\n",
    "# split text into words\n",
    "df['Review'] = df['Review'].str.split()\n",
    "\n",
    "# lemmatize words and simultaneously remove stop words\n",
    "df['Review'] = df['Review'].apply(lambda words: [lemmatizer.lemmatize(word) for word in words if word not in stop_words])\n",
    "\n",
    "# join words together again\n",
    "df['Review'] = df['Review'].apply(lambda words: ' '.join(words))\n",
    "\n",
    "df.head()"
   ]
  },
  {
   "cell_type": "code",
   "execution_count": 8,
   "metadata": {},
   "outputs": [
    {
     "data": {
      "text/html": [
       "<div>\n",
       "<style scoped>\n",
       "    .dataframe tbody tr th:only-of-type {\n",
       "        vertical-align: middle;\n",
       "    }\n",
       "\n",
       "    .dataframe tbody tr th {\n",
       "        vertical-align: top;\n",
       "    }\n",
       "\n",
       "    .dataframe thead th {\n",
       "        text-align: right;\n",
       "    }\n",
       "</style>\n",
       "<table border=\"1\" class=\"dataframe\">\n",
       "  <thead>\n",
       "    <tr style=\"text-align: right;\">\n",
       "      <th></th>\n",
       "      <th>Review</th>\n",
       "      <th>Positive Review</th>\n",
       "      <th>VADER Score</th>\n",
       "      <th>Review Score</th>\n",
       "    </tr>\n",
       "  </thead>\n",
       "  <tbody>\n",
       "    <tr>\n",
       "      <th>0</th>\n",
       "      <td>perhaps best johannes steinhoff book since dea...</td>\n",
       "      <td>True</td>\n",
       "      <td>-0.7096</td>\n",
       "      <td>3</td>\n",
       "    </tr>\n",
       "    <tr>\n",
       "      <th>1</th>\n",
       "      <td>fascinating book story written form numerous l...</td>\n",
       "      <td>True</td>\n",
       "      <td>0.9694</td>\n",
       "      <td>5</td>\n",
       "    </tr>\n",
       "    <tr>\n",
       "      <th>2</th>\n",
       "      <td>four tale collection beautifully composed art ...</td>\n",
       "      <td>True</td>\n",
       "      <td>0.9371</td>\n",
       "      <td>5</td>\n",
       "    </tr>\n",
       "    <tr>\n",
       "      <th>3</th>\n",
       "      <td>book contained profanity expected read book ri...</td>\n",
       "      <td>False</td>\n",
       "      <td>0.5222</td>\n",
       "      <td>3</td>\n",
       "    </tr>\n",
       "    <tr>\n",
       "      <th>4</th>\n",
       "      <td>entered second time deep concern science math ...</td>\n",
       "      <td>True</td>\n",
       "      <td>0.2023</td>\n",
       "      <td>4</td>\n",
       "    </tr>\n",
       "    <tr>\n",
       "      <th>5</th>\n",
       "      <td>know national book award. book slow amp boring...</td>\n",
       "      <td>False</td>\n",
       "      <td>-0.2023</td>\n",
       "      <td>2</td>\n",
       "    </tr>\n",
       "    <tr>\n",
       "      <th>6</th>\n",
       "      <td>daughter prominent boston doctor dead apparent...</td>\n",
       "      <td>False</td>\n",
       "      <td>0.3137</td>\n",
       "      <td>3</td>\n",
       "    </tr>\n",
       "    <tr>\n",
       "      <th>7</th>\n",
       "      <td>disapointed book.basicly writer took bit piece...</td>\n",
       "      <td>False</td>\n",
       "      <td>0.7003</td>\n",
       "      <td>3</td>\n",
       "    </tr>\n",
       "    <tr>\n",
       "      <th>8</th>\n",
       "      <td>think retrospect wasted time one. great premis...</td>\n",
       "      <td>False</td>\n",
       "      <td>0.8214</td>\n",
       "      <td>3</td>\n",
       "    </tr>\n",
       "    <tr>\n",
       "      <th>9</th>\n",
       "      <td>hard time understanding dislike novel. dislike...</td>\n",
       "      <td>False</td>\n",
       "      <td>-0.5701</td>\n",
       "      <td>1</td>\n",
       "    </tr>\n",
       "  </tbody>\n",
       "</table>\n",
       "</div>"
      ],
      "text/plain": [
       "                                              Review  Positive Review  \\\n",
       "0  perhaps best johannes steinhoff book since dea...             True   \n",
       "1  fascinating book story written form numerous l...             True   \n",
       "2  four tale collection beautifully composed art ...             True   \n",
       "3  book contained profanity expected read book ri...            False   \n",
       "4  entered second time deep concern science math ...             True   \n",
       "5  know national book award. book slow amp boring...            False   \n",
       "6  daughter prominent boston doctor dead apparent...            False   \n",
       "7  disapointed book.basicly writer took bit piece...            False   \n",
       "8  think retrospect wasted time one. great premis...            False   \n",
       "9  hard time understanding dislike novel. dislike...            False   \n",
       "\n",
       "   VADER Score  Review Score  \n",
       "0      -0.7096             3  \n",
       "1       0.9694             5  \n",
       "2       0.9371             5  \n",
       "3       0.5222             3  \n",
       "4       0.2023             4  \n",
       "5      -0.2023             2  \n",
       "6       0.3137             3  \n",
       "7       0.7003             3  \n",
       "8       0.8214             3  \n",
       "9      -0.5701             1  "
      ]
     },
     "execution_count": 8,
     "metadata": {},
     "output_type": "execute_result"
    }
   ],
   "source": [
    "# # populate review score using vader\n",
    "analyzer = SentimentIntensityAnalyzer()\n",
    "\n",
    "# apply VADER to generate sentiment scores\n",
    "df['VADER Score'] = df['Review'].apply(lambda x: analyzer.polarity_scores(x)['compound'])\n",
    "\n",
    "# convert VADER score to review score (1-5)\n",
    "def adjust_score(row):\n",
    "    vader_score = row['VADER Score']\n",
    "    positive_review = row['Positive Review']\n",
    "    if positive_review:\n",
    "        if vader_score > 0.7:\n",
    "            return 5\n",
    "        elif vader_score > 0.1:\n",
    "            return 4\n",
    "        else:\n",
    "            return 3\n",
    "    else:\n",
    "        if vader_score < -0.4:\n",
    "            return 1\n",
    "        elif vader_score < 0:\n",
    "            return 2\n",
    "        else:\n",
    "            return 3\n",
    "\n",
    "df['Review Score'] = df.apply(adjust_score, axis=1)\n",
    "df.head(10)"
   ]
  },
  {
   "cell_type": "code",
   "execution_count": 9,
   "metadata": {},
   "outputs": [
    {
     "name": "stdout",
     "output_type": "stream",
     "text": [
      "3    789\n",
      "5    727\n",
      "1    240\n",
      "4    141\n",
      "2     76\n",
      "Name: Review Score, dtype: int64\n"
     ]
    },
    {
     "data": {
      "image/png": "[encoded data removed]",
      "text/plain": [
       "<Figure size 1000x600 with 1 Axes>"
      ]
     },
     "metadata": {},
     "output_type": "display_data"
    }
   ],
   "source": [
    "# visualize distribution of review scores\n",
    "score_counts = df['Review Score'].value_counts()\n",
    "print(score_counts)\n",
    "\n",
    "# plot VADER scores vs. Review Score\n",
    "plt.figure(figsize=(10, 6))\n",
    "sns.boxplot(x='Review Score', y='VADER Score', data=df)\n",
    "plt.title('VADER Scores vs. Review Score')\n",
    "plt.xlabel('Review Score')\n",
    "plt.ylabel('VADER Score')\n",
    "plt.show()"
   ]
  },
  {
   "cell_type": "code",
   "execution_count": 10,
   "metadata": {},
   "outputs": [
    {
     "name": "stdout",
     "output_type": "stream",
     "text": [
      "3    240\n",
      "5    240\n",
      "1    240\n",
      "4    240\n",
      "2    240\n",
      "Name: Review Score, dtype: int64\n"
     ]
    }
   ],
   "source": [
    "# separate dataframe by review score\n",
    "df_3 = df[df['Review Score'] == 3]\n",
    "df_5 = df[df['Review Score'] == 5]\n",
    "df_1 = df[df['Review Score'] == 1]\n",
    "df_4 = df[df['Review Score'] == 4]\n",
    "df_2 = df[df['Review Score'] == 2]\n",
    "\n",
    "# find the size of the largest minority class\n",
    "max_minority_size = max(len(df_1), len(df_4), len(df_2))\n",
    "\n",
    "# downsample majority classes (3 and 5) to the size of the largest minority class\n",
    "df_3_downsampled = resample(df_3, \n",
    "                            replace=False, \n",
    "                            n_samples=max_minority_size, \n",
    "                            random_state=42)\n",
    "df_5_downsampled = resample(df_5, \n",
    "                            replace=False, \n",
    "                            n_samples=max_minority_size, \n",
    "                            random_state=42)\n",
    "\n",
    "# upsample minority classes (4 and 2) to the size of the largest minority class\n",
    "df_4_upsampled = resample(df_4, \n",
    "                          replace=True, \n",
    "                          n_samples=max_minority_size, \n",
    "                          random_state=42)\n",
    "df_2_upsampled = resample(df_2, \n",
    "                          replace=True, \n",
    "                          n_samples=max_minority_size, \n",
    "                          random_state=42)\n",
    "\n",
    "# Combine all classes to form the balanced dataset\n",
    "df_balanced = pd.concat([df_3_downsampled, df_5_downsampled, df_1, df_4_upsampled, df_2_upsampled])\n",
    "\n",
    "# Display new class counts\n",
    "print(df_balanced['Review Score'].value_counts())"
   ]
  },
  {
   "cell_type": "code",
   "execution_count": 11,
   "metadata": {},
   "outputs": [],
   "source": [
    "# # generate initial Review Score: 4,5 if true; 1,2 if false\n",
    "# df['Review Score'] = df['Positive Review'].apply(lambda x: np.random.choice([4, 5]) if x else np.random.choice([1, 2]))\n",
    "\n",
    "# # assign neutral score to 20% of reviews to diversify\n",
    "# neutral_indices = np.random.choice(df.index, size=int(0.2 * len(df)), replace=False)\n",
    "# df.loc[neutral_indices, 'Review Score'] = 3 \n",
    "\n",
    "# adjust the labels to start from 0 instead of 1\n",
    "df_balanced['Review Score'] = df_balanced['Review Score'] - 1\n",
    "\n",
    "# implement TF-IDF Vectorizer to Transform Text\n",
    "tdidf_vectorizer = TfidfVectorizer()\n",
    "\n",
    "# fit the vectorizer to the data\n",
    "tdidf_vectorizer.fit(df_balanced['Review'])\n",
    "\n",
    "# transform the data\n",
    "X = tdidf_vectorizer.transform(df_balanced['Review']).toarray()\n",
    "\n",
    "y = df_balanced['Review Score']"
   ]
  },
  {
   "cell_type": "code",
   "execution_count": 12,
   "metadata": {},
   "outputs": [],
   "source": [
    "# Split the data into training and testing sets\n",
    "X_train, X_test, y_train, y_test = train_test_split(X, y, test_size=0.2, random_state=1234)"
   ]
  },
  {
   "cell_type": "code",
   "execution_count": 13,
   "metadata": {},
   "outputs": [
    {
     "name": "stdout",
     "output_type": "stream",
     "text": [
      "Model: \"sequential\"\n",
      "_________________________________________________________________\n",
      " Layer (type)                Output Shape              Param #   \n",
      "=================================================================\n",
      " dense (Dense)               (None, 256)               3175424   \n",
      "                                                                 \n",
      " dropout (Dropout)           (None, 256)               0         \n",
      "                                                                 \n",
      " dense_1 (Dense)             (None, 128)               32896     \n",
      "                                                                 \n",
      " dropout_1 (Dropout)         (None, 128)               0         \n",
      "                                                                 \n",
      " dense_2 (Dense)             (None, 64)                8256      \n",
      "                                                                 \n",
      " dropout_2 (Dropout)         (None, 64)                0         \n",
      "                                                                 \n",
      " dense_3 (Dense)             (None, 5)                 325       \n",
      "                                                                 \n",
      "=================================================================\n",
      "Total params: 3216901 (12.27 MB)\n",
      "Trainable params: 3216901 (12.27 MB)\n",
      "Non-trainable params: 0 (0.00 Byte)\n",
      "_________________________________________________________________\n"
     ]
    }
   ],
   "source": [
    "# neural network model\n",
    "nn_model = keras.Sequential()\n",
    "\n",
    "# input layer\n",
    "input_layer = keras.layers.InputLayer(input_shape=(X_train.shape[1],))\n",
    "nn_model.add(input_layer)\n",
    "\n",
    "# first hidden layer\n",
    "hidden_layer_1 = keras.layers.Dense(units=256, activation='relu')\n",
    "nn_model.add(hidden_layer_1)\n",
    "nn_model.add(keras.layers.Dropout(.3))\n",
    "\n",
    "# second hidden layer\n",
    "hidden_layer_2 = keras.layers.Dense(units=128, activation='relu')\n",
    "nn_model.add(hidden_layer_2)\n",
    "nn_model.add(keras.layers.Dropout(.3))\n",
    "\n",
    "# third hidden layer\n",
    "hidden_layer_3 = keras.layers.Dense(units=64, activation='relu')\n",
    "nn_model.add(hidden_layer_3)\n",
    "nn_model.add(keras.layers.Dropout(.3))\n",
    "\n",
    "# output layer\n",
    "output_layer = keras.layers.Dense(units=5, activation='softmax') # 5 because of our rating of 1-5 and softmax bc multi-class classification\n",
    "nn_model.add(output_layer)\n",
    "\n",
    "# Print summary of neural network model structure\n",
    "nn_model.summary()"
   ]
  },
  {
   "cell_type": "code",
   "execution_count": 14,
   "metadata": {},
   "outputs": [
    {
     "name": "stdout",
     "output_type": "stream",
     "text": [
      "Class Weights: {0: 0.964824120603015, 1: 1.037837837837838, 2: 0.9846153846153847, 3: 1.0212765957446808, 4: 0.9948186528497409}\n"
     ]
    }
   ],
   "source": [
    "# compute class weights\n",
    "class_weights = compute_class_weight(class_weight='balanced', classes=np.unique(y_train), y=y_train)\n",
    "class_weights = dict(enumerate(class_weights))\n",
    "\n",
    "# show class weights\n",
    "print(\"Class Weights:\", class_weights)\n",
    "\n",
    "# define learning rate scheduler\n",
    "def scheduler(epoch, lr):\n",
    "    if epoch < 10:\n",
    "        return lr\n",
    "    else:\n",
    "        return lr * tf.math.exp(-0.1)\n",
    "\n",
    "callback_lr = tf.keras.callbacks.LearningRateScheduler(scheduler)"
   ]
  },
  {
   "cell_type": "code",
   "execution_count": 15,
   "metadata": {},
   "outputs": [],
   "source": [
    "# compile the model\n",
    "# optimizer value because it adapts the learning rate based on the first and second moments of the gradients\n",
    "# loss value can handle integer labels (1-5) for multi-class classification\n",
    "nn_model.compile(optimizer=tf.keras.optimizers.Adam(learning_rate=0.0001), loss='sparse_categorical_crossentropy', metrics=['accuracy'])"
   ]
  },
  {
   "cell_type": "code",
   "execution_count": 16,
   "metadata": {},
   "outputs": [
    {
     "name": "stdout",
     "output_type": "stream",
     "text": [
      "Epoch 1/20\n",
      "30/30 [==============================] - 1s 19ms/step - loss: 1.6082 - accuracy: 0.2313 - val_loss: 1.6061 - val_accuracy: 0.3375 - lr: 1.0000e-04\n",
      "Epoch 2/20\n",
      "30/30 [==============================] - 0s 14ms/step - loss: 1.6042 - accuracy: 0.3073 - val_loss: 1.6020 - val_accuracy: 0.4000 - lr: 1.0000e-04\n",
      "Epoch 3/20\n",
      "30/30 [==============================] - 0s 14ms/step - loss: 1.5982 - accuracy: 0.3635 - val_loss: 1.5964 - val_accuracy: 0.4042 - lr: 1.0000e-04\n",
      "Epoch 4/20\n",
      "30/30 [==============================] - 0s 15ms/step - loss: 1.5879 - accuracy: 0.4333 - val_loss: 1.5873 - val_accuracy: 0.4375 - lr: 1.0000e-04\n",
      "Epoch 5/20\n",
      "30/30 [==============================] - 0s 16ms/step - loss: 1.5723 - accuracy: 0.4802 - val_loss: 1.5726 - val_accuracy: 0.4792 - lr: 1.0000e-04\n",
      "Epoch 6/20\n",
      "30/30 [==============================] - 0s 16ms/step - loss: 1.5483 - accuracy: 0.5635 - val_loss: 1.5487 - val_accuracy: 0.5083 - lr: 1.0000e-04\n",
      "Epoch 7/20\n",
      "30/30 [==============================] - 0s 14ms/step - loss: 1.5107 - accuracy: 0.6167 - val_loss: 1.5085 - val_accuracy: 0.5250 - lr: 1.0000e-04\n",
      "Epoch 8/20\n",
      "30/30 [==============================] - 0s 14ms/step - loss: 1.4479 - accuracy: 0.6833 - val_loss: 1.4484 - val_accuracy: 0.5333 - lr: 1.0000e-04\n",
      "Epoch 9/20\n",
      "30/30 [==============================] - 0s 15ms/step - loss: 1.3524 - accuracy: 0.7479 - val_loss: 1.3644 - val_accuracy: 0.5792 - lr: 1.0000e-04\n",
      "Epoch 10/20\n",
      "30/30 [==============================] - 0s 15ms/step - loss: 1.2296 - accuracy: 0.7802 - val_loss: 1.2610 - val_accuracy: 0.6125 - lr: 1.0000e-04\n",
      "Epoch 11/20\n",
      "30/30 [==============================] - 0s 14ms/step - loss: 1.0892 - accuracy: 0.8313 - val_loss: 1.1682 - val_accuracy: 0.6292 - lr: 9.0484e-05\n",
      "Epoch 12/20\n",
      "30/30 [==============================] - 0s 14ms/step - loss: 0.9548 - accuracy: 0.8656 - val_loss: 1.0865 - val_accuracy: 0.6375 - lr: 8.1873e-05\n",
      "Epoch 13/20\n",
      "30/30 [==============================] - 0s 14ms/step - loss: 0.8481 - accuracy: 0.8844 - val_loss: 1.0146 - val_accuracy: 0.6542 - lr: 7.4082e-05\n",
      "Epoch 14/20\n",
      "30/30 [==============================] - 0s 14ms/step - loss: 0.7334 - accuracy: 0.9146 - val_loss: 0.9605 - val_accuracy: 0.6500 - lr: 6.7032e-05\n",
      "Epoch 15/20\n",
      "30/30 [==============================] - 0s 13ms/step - loss: 0.6398 - accuracy: 0.9427 - val_loss: 0.9114 - val_accuracy: 0.6792 - lr: 6.0653e-05\n",
      "Epoch 16/20\n",
      "30/30 [==============================] - 0s 14ms/step - loss: 0.5719 - accuracy: 0.9385 - val_loss: 0.8759 - val_accuracy: 0.6750 - lr: 5.4881e-05\n",
      "Epoch 17/20\n",
      "30/30 [==============================] - 0s 15ms/step - loss: 0.5130 - accuracy: 0.9490 - val_loss: 0.8467 - val_accuracy: 0.6917 - lr: 4.9659e-05\n",
      "Epoch 18/20\n",
      "30/30 [==============================] - 0s 15ms/step - loss: 0.4617 - accuracy: 0.9635 - val_loss: 0.8215 - val_accuracy: 0.6958 - lr: 4.4933e-05\n",
      "Epoch 19/20\n",
      "30/30 [==============================] - 0s 14ms/step - loss: 0.4307 - accuracy: 0.9708 - val_loss: 0.8009 - val_accuracy: 0.7042 - lr: 4.0657e-05\n",
      "Epoch 20/20\n",
      "30/30 [==============================] - 0s 14ms/step - loss: 0.3831 - accuracy: 0.9719 - val_loss: 0.7843 - val_accuracy: 0.7125 - lr: 3.6788e-05\n"
     ]
    },
    {
     "data": {
      "text/plain": [
       "<keras.src.callbacks.History at 0x7b5ad22b89d0>"
      ]
     },
     "execution_count": 16,
     "metadata": {},
     "output_type": "execute_result"
    }
   ],
   "source": [
    "# training the model\n",
    "early_stopping = keras.callbacks.EarlyStopping(patience=3, restore_best_weights=True)\n",
    "\n",
    "nn_model.fit(X_train, y_train, epochs=20, batch_size=32, validation_data=(X_test, y_test),\n",
    "             class_weight=class_weights, callbacks=[early_stopping, callback_lr])\n",
    "# nn_model.fit(X_train, y_train, epochs=10, batch_size=32, validation_data=(X_test, y_test))"
   ]
  },
  {
   "cell_type": "code",
   "execution_count": 17,
   "metadata": {},
   "outputs": [
    {
     "name": "stdout",
     "output_type": "stream",
     "text": [
      "8/8 [==============================] - 0s 2ms/step - loss: 0.7843 - accuracy: 0.7125\n",
      "Neural Network Model Accuracy: 0.7125\n",
      "8/8 [==============================] - 0s 2ms/step\n",
      "              precision    recall  f1-score   support\n",
      "\n",
      "           1       0.62      0.56      0.59        41\n",
      "           2       0.94      0.89      0.92        55\n",
      "           3       0.47      0.60      0.53        45\n",
      "           4       0.76      0.90      0.82        52\n",
      "           5       0.78      0.53      0.63        47\n",
      "\n",
      "    accuracy                           0.71       240\n",
      "   macro avg       0.72      0.70      0.70       240\n",
      "weighted avg       0.73      0.71      0.71       240\n",
      "\n"
     ]
    }
   ],
   "source": [
    "# evaluate the model\n",
    "loss, accuracy = nn_model.evaluate(X_test, y_test)\n",
    "print(f'Neural Network Model Accuracy: {accuracy:.4f}')\n",
    "\n",
    "# make predictions\n",
    "y_pred = np.argmax(nn_model.predict(X_test), axis=1)\n",
    "\n",
    "# adjust predictions and test labels\n",
    "y_pred_adjusted = y_pred + 1  # add 1 to shift from 0-4 to 1-5\n",
    "y_test_adjusted = y_test.values + 1  \n",
    "\n",
    "# evaluate the model's performance\n",
    "print(classification_report(y_test_adjusted, y_pred_adjusted, zero_division=0))"
   ]
  },
  {
   "cell_type": "code",
   "execution_count": 18,
   "metadata": {},
   "outputs": [
    {
     "name": "stdout",
     "output_type": "stream",
     "text": [
      "Review #1:\n",
      "\n",
      "Unfortunately, this book is the sign of what passes for humour these days. Even though it may have been remotely funny (sometimes the author comes close to being bearable), the book never actually tries to be. \n",
      "\n",
      "Humour is supposed to be smart. However, this book gives us the worst case of dumb\n",
      "\n",
      "\n",
      "Prediction: What is this reviews rating? 4\n",
      "\n",
      "Actual: What is this reviews rating? 4\n",
      "\n"
     ]
    }
   ],
   "source": [
    "print('Review #1:\\n')\n",
    "\n",
    "print(original_reviews.iloc[24])\n",
    "\n",
    "reviewRating = y_pred_adjusted[24]\n",
    "    \n",
    "print('\\nPrediction: What is this reviews rating? {}\\n'.format(reviewRating))\n",
    "\n",
    "print('Actual: What is this reviews rating? {}\\n'.format(y_test_adjusted[24]))"
   ]
  },
  {
   "cell_type": "code",
   "execution_count": 19,
   "metadata": {},
   "outputs": [
    {
     "name": "stdout",
     "output_type": "stream",
     "text": [
      "Review #2:\n",
      "\n",
      "As a young woman I was appauled by Gurian's lack of respect for\n",
      "women as human beings.What makes me the most furious is his \n",
      "shadowy writing which can lead a young woman to think she is \n",
      "only worth something if she squishes herself to allow the \n",
      "boys and men to take the lead in life.The resounding message is\n",
      "girls and women are potentially inferior and cannot because of \n",
      "our hormones make important contributions to society beyond \n",
      "traditional roles.I don't remember ever being taken over by \n",
      "hormones and rendered down to a emotional bundle of primative \n",
      "chemical reactions he believes all females to be.\n",
      "I agree with posters about this bridge brain foolishness.Gurian\n",
      "is a master at twisting words around and you have to read his \n",
      "books being mindfull of his tricks.His book is full of agenda.\n",
      "\n",
      "\n",
      "Prediction: What is this reviews rating? 2\n",
      "\n",
      "Actual: What is this reviews rating? 2\n",
      "\n"
     ]
    }
   ],
   "source": [
    "print('Review #2:\\n')\n",
    "\n",
    "print(original_reviews.iloc[11])\n",
    "\n",
    "reviewRating = y_pred_adjusted[11]\n",
    "    \n",
    "print('\\nPrediction: What is this reviews rating? {}\\n'.format(reviewRating))\n",
    "\n",
    "print('Actual: What is this reviews rating? {}\\n'.format(y_test_adjusted[11]))"
   ]
  },
  {
   "cell_type": "code",
   "execution_count": 20,
   "metadata": {},
   "outputs": [
    {
     "name": "stdout",
     "output_type": "stream",
     "text": [
      "Review #3:\n",
      "\n",
      "Flynn offers up a fast-paced, if unbelievable story.  Unfortunately, character development is paper thin and clearly portrays Flynn's political preferences.  Characters, like Rapp, with a military background are guided by clearly defined ethical principles, have all the answers and are always showing those good-for-nothing politicians how the \"real world\" works.  Meanwhile, Flynn's politicians (the majority of whom are Democrats) seem only concerned with public opinion and the next election.  While there are grains of truth in his characters, Flynn consistently goes for the cheap, partisan stereotype.  I was looking for a well-developed political/military thriller.  I'm still looking.\n",
      "\n",
      "\n",
      "Prediction: What is this reviews rating? 3\n",
      "\n",
      "Actual: What is this reviews rating? 1\n",
      "\n"
     ]
    }
   ],
   "source": [
    "print('Review #3:\\n')\n",
    "\n",
    "print(original_reviews.iloc[125])\n",
    "\n",
    "reviewRating = y_pred_adjusted[125]\n",
    "    \n",
    "print('\\nPrediction: What is this reviews rating? {}\\n'.format(reviewRating))\n",
    "\n",
    "print('Actual: What is this reviews rating? {}\\n'.format(y_test_adjusted[125]))"
   ]
  },
  {
   "cell_type": "code",
   "execution_count": null,
   "metadata": {},
   "outputs": [],
   "source": []
  }
 ],
 "metadata": {
  "kernelspec": {
   "display_name": "Python 3 (ipykernel)",
   "language": "python",
   "name": "python3"
  },
  "language_info": {
   "codemirror_mode": {
    "name": "ipython",
    "version": 3
   },
   "file_extension": ".py",
   "mimetype": "text/x-python",
   "name": "python",
   "nbconvert_exporter": "python",
   "pygments_lexer": "ipython3",
   "version": "3.9.19"
  },
  "toc": {
   "base_numbering": 1,
   "nav_menu": {},
   "number_sections": false,
   "sideBar": true,
   "skip_h1_title": false,
   "title_cell": "Table of Contents",
   "title_sidebar": "Contents",
   "toc_cell": false,
   "toc_position": {},
   "toc_section_display": true,
   "toc_window_display": false
  },
  "varInspector": {
   "cols": {
    "lenName": 16,
    "lenType": 16,
    "lenVar": 40
   },
   "kernels_config": {
    "python": {
     "delete_cmd_postfix": "",
     "delete_cmd_prefix": "del ",
     "library": "var_list.py",
     "varRefreshCmd": "print(var_dic_list())"
    },
    "r": {
     "delete_cmd_postfix": ") ",
     "delete_cmd_prefix": "rm(",
     "library": "var_list.r",
     "varRefreshCmd": "cat(var_dic_list()) "
    }
   },
   "types_to_exclude": [
    "module",
    "function",
    "builtin_function_or_method",
    "instance",
    "_Feature"
   ],
   "window_display": false
  }
 },
 "nbformat": 4,
 "nbformat_minor": 4
}
